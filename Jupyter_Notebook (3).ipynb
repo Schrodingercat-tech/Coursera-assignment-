{
 "cells": [
  {
   "cell_type": "markdown",
   "metadata": {},
   "source": [
    "<center>\n",
    "    <img src=\"https://cf-courses-data.s3.us.cloud-object-storage.appdomain.cloud/IBMDeveloperSkillsNetwork-DS0105EN-SkillsNetwork/labs/Module2/images/SN_web_lightmode.png\" width=\"300\" alt=\"cognitiveclass.ai logo\">\n",
    "</center>\n"
   ]
  },
  {
   "cell_type": "markdown",
   "metadata": {},
   "source": [
    "#### Add your code below following the instructions given in the course\n"
   ]
  },
  {
   "cell_type": "markdown",
   "metadata": {},
   "source": [
    "# My Jupyter Notebook on IBM Watson Studio"
   ]
  },
  {
   "cell_type": "markdown",
   "metadata": {},
   "source": [
    "**Sai Ganesh Reddy**\n",
    "\n",
    "Data Science Enthusiast"
   ]
  },
  {
   "cell_type": "markdown",
   "metadata": {},
   "source": [
    "*I'm interested in Data Science because I'm an enthusiastic and curious individual. I have a passion for coding, mathematics, and problem-solving, thus my interest greatly aligns with data science to extract valuable insights from data.*\n"
   ]
  },
  {
   "cell_type": "markdown",
   "metadata": {},
   "source": [
    "### List of Prime numbers in range [a,b]"
   ]
  },
  {
   "cell_type": "code",
   "execution_count": 5,
   "metadata": {},
   "outputs": [
    {
     "name": "stdout",
     "output_type": "stream",
     "text": [
      "[2, 3, 5, 7, 11, 13, 17, 19, 23, 29, 31, 37, 41, 43, 47, 53, 59, 61, 67, 71, 73, 79, 83, 89, 97]\n"
     ]
    }
   ],
   "source": [
    "def prime_numbers (a,b):\n",
    "    p=[] \n",
    "    for n in range(a, b+ 1):\n",
    "       if n > 1:\n",
    "           for i in range(2, n):\n",
    "               if (n% i) == 0:\n",
    "                   break \n",
    "           else:\n",
    "               p.append(n)\n",
    "    return p\n",
    "print (prime_numbers (2,100))"
   ]
  },
  {
   "cell_type": "markdown",
   "metadata": {},
   "source": [
    "---\n",
    "**This text sandwiched in Horizontal rule**\n",
    "***"
   ]
  },
  {
   "cell_type": "markdown",
   "metadata": {},
   "source": [
    "**Programming languages in Numbered list.**\n",
    "1. Python\n",
    "2. C++\n",
    "3. java\n",
    "4. Julia \n"
   ]
  },
  {
   "cell_type": "markdown",
   "metadata": {},
   "source": [
    "**Fundamental particles Table.**\n",
    "\n",
    "| Particle | Charge | AMU |\n",
    "| -------- | ----- | --- |\n",
    "| Electron | -1     | 0.00054858 |\n",
    "| Proton   | +1     | 1.00727647 |\n",
    "| Neutron  | 0      | 1.00866492 |\n"
   ]
  },
  {
   "cell_type": "markdown",
   "metadata": {},
   "source": [
    "**Hyperlink**\n",
    "\n",
    "[Sai GitHub Account hyperlink](https://github.com/Schrodingercat-tech)"
   ]
  },
  {
   "cell_type": "markdown",
   "metadata": {},
   "source": [
    "**Programming languages in Bulleted list.**\n",
    "* Python\n",
    "* c++\n",
    "* java \n",
    "* julia "
   ]
  }
 ],
 "metadata": {
  "kernelspec": {
   "display_name": "Python",
   "language": "python",
   "name": "conda-env-python-py"
  },
  "language_info": {
   "codemirror_mode": {
    "name": "ipython",
    "version": 3
   },
   "file_extension": ".py",
   "mimetype": "text/x-python",
   "name": "python",
   "nbconvert_exporter": "python",
   "pygments_lexer": "ipython3",
   "version": "3.7.12"
  }
 },
 "nbformat": 4,
 "nbformat_minor": 4
}
